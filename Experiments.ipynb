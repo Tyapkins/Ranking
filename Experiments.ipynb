{
  "nbformat": 4,
  "nbformat_minor": 0,
  "metadata": {
    "colab": {
      "provenance": []
    },
    "kernelspec": {
      "name": "python3",
      "display_name": "Python 3"
    },
    "language_info": {
      "name": "python"
    }
  },
  "cells": [
    {
      "cell_type": "code",
      "execution_count": 2,
      "metadata": {
        "id": "g1fnetA6EXVn"
      },
      "outputs": [],
      "source": [
        "import numpy as np\n",
        "import pandas as pd\n",
        "import ast\n",
        "import matplotlib.pyplot as plt\n",
        "from itertools import product\n",
        "from scipy import stats\n",
        "from tqdm import tqdm"
      ]
    },
    {
      "cell_type": "code",
      "source": [
        "def get_list_from_file(filename, eval_needed=False):\n",
        "  full_list = []\n",
        "  with open(filename, 'r', encoding='utf-8') as f:\n",
        "    for line in f:\n",
        "      value = ast.literal_eval(line.strip()) if eval_needed else line.strip()\n",
        "      full_list.append(value)\n",
        "  return full_list"
      ],
      "metadata": {
        "id": "xQ-r_Y4uFb93"
      },
      "execution_count": 3,
      "outputs": []
    },
    {
      "cell_type": "code",
      "source": [
        "def get_embeddings(skills_name='all_skills.txt', embedding_name='10_embeddings.txt'):\n",
        "  return dict(zip(get_list_from_file(skills_name), get_list_from_file(embedding_name, eval_needed=True)))"
      ],
      "metadata": {
        "id": "fbk0qWD7Yxnr"
      },
      "execution_count": 4,
      "outputs": []
    },
    {
      "cell_type": "code",
      "source": [
        "def correct_read(filename, transform_columns='skills'):\n",
        "  df = pd.read_csv(filename)\n",
        "  df.loc[:, transform_columns] = df.loc[:, transform_columns].apply(ast.literal_eval)\n",
        "  return df"
      ],
      "metadata": {
        "id": "kDJtLy5OSglY"
      },
      "execution_count": 5,
      "outputs": []
    },
    {
      "cell_type": "code",
      "source": [
        "def change_all_skills(skill_list, skills_to_embeddings):\n",
        "  return np.array([skills_to_embeddings[x.strip().lower()] for x in skill_list])"
      ],
      "metadata": {
        "id": "GQ3t_ITmayR-"
      },
      "execution_count": 6,
      "outputs": []
    },
    {
      "cell_type": "code",
      "source": [
        "def replace_by_embedding(df, embeddings, R=1, embedded_column='skills'):\n",
        "\n",
        "    col = df[embedded_column]\n",
        "    embedded = col.apply(lambda x: change_all_skills(x, embeddings), embeddings)\n",
        "\n",
        "    changed_df = df.copy()\n",
        "    changed_df.loc[:, embedded_column] = R*embedded\n",
        "\n",
        "    return changed_df"
      ],
      "metadata": {
        "id": "xSzxipp-X0Xg"
      },
      "execution_count": 7,
      "outputs": []
    },
    {
      "cell_type": "code",
      "source": [
        "def get_distances(resume_object, vacancy_object, vac_to_obj=False, R=1):\n",
        "\n",
        "  if vacancy_object.shape[0] == 0 or resume_object.shape[0] == 0:\n",
        "      return None\n",
        "\n",
        "  res = [R*np.arccos(np.dot(res, vac)/R**2) for res,vac in product(resume_object, vacancy_object)]\n",
        "\n",
        "  if vac_to_obj:\n",
        "    res = np.array(res).reshape(vacancy_object.shape[0], resume_object.shape[0])\n",
        "  else:\n",
        "    res = np.array(res).reshape(resume_object.shape[0], vacancy_object.shape[0])\n",
        "  return res"
      ],
      "metadata": {
        "id": "dfBi09evhwF7"
      },
      "execution_count": 8,
      "outputs": []
    },
    {
      "cell_type": "code",
      "source": [
        "def get_all_matrices(df, skill_column='skills', vac_num=1, res_num=0):\n",
        "\n",
        "  vac_skills = df[df.Type == vac_num].loc[:, skill_column]\n",
        "  res_skills = df[df.Type == res_num].loc[:, skill_column]\n",
        "\n",
        "  return [get_distances(res, vac) for vac, res in product(vac_skills, res_skills)]"
      ],
      "metadata": {
        "id": "jOuYGRF8uyl2"
      },
      "execution_count": 9,
      "outputs": []
    },
    {
      "cell_type": "code",
      "source": [
        "#min weight assignment\n",
        "class KMMatcher:\n",
        "\n",
        "    ## weights : nxm weight matrix (numpy , float), n <= m\n",
        "    def __init__(self, weights):\n",
        "        weights = -np.array(weights).astype(np.float32)\n",
        "        self.weights = weights\n",
        "        self.n, self.m = weights.shape\n",
        "        assert self.n <= self.m\n",
        "        # init label\n",
        "        self.label_x = np.max(weights, axis=1)\n",
        "        self.label_y = np.zeros((self.m, ), dtype=np.float32)\n",
        "\n",
        "        self.max_match = 0\n",
        "        self.xy = -np.ones((self.n,), dtype=int)\n",
        "        self.yx = -np.ones((self.m,), dtype=int)\n",
        "\n",
        "    def do_augment(self, x, y):\n",
        "        self.max_match += 1\n",
        "        while x != -2:\n",
        "            self.yx[y] = x\n",
        "            ty = self.xy[x]\n",
        "            self.xy[x] = y\n",
        "            x, y = self.prev[x], ty\n",
        "\n",
        "    def find_augment_path(self):\n",
        "        self.S = np.zeros((self.n,), bool)\n",
        "        self.T = np.zeros((self.m,), bool)\n",
        "\n",
        "        self.slack = np.zeros((self.m,), dtype=np.float32)\n",
        "        self.slackyx = -np.ones((self.m,), dtype=int)  # l[slackyx[y]] + l[y] - w[slackx[y], y] == slack[y]\n",
        "\n",
        "        self.prev = -np.ones((self.n,), int)\n",
        "\n",
        "        queue, st = [], 0\n",
        "        root = -1\n",
        "\n",
        "        for x in range(self.n):\n",
        "            if self.xy[x] == -1:\n",
        "                queue.append(x);\n",
        "                root = x\n",
        "                self.prev[x] = -2\n",
        "                self.S[x] = True\n",
        "                break\n",
        "\n",
        "        self.slack = self.label_y + self.label_x[root] - self.weights[root]\n",
        "        self.slackyx[:] = root\n",
        "\n",
        "        while True:\n",
        "            while st < len(queue):\n",
        "                x = queue[st]; st+= 1\n",
        "\n",
        "                is_in_graph = np.isclose(self.weights[x], self.label_x[x] + self.label_y)\n",
        "                nonzero_inds = np.nonzero(np.logical_and(is_in_graph, np.logical_not(self.T)))[0]\n",
        "\n",
        "                for y in nonzero_inds:\n",
        "                    if self.yx[y] == -1:\n",
        "                        return x, y\n",
        "                    self.T[y] = True\n",
        "                    queue.append(self.yx[y])\n",
        "                    self.add_to_tree(self.yx[y], x)\n",
        "\n",
        "            self.update_labels()\n",
        "            queue, st = [], 0\n",
        "            is_in_graph = np.isclose(self.slack, 0)\n",
        "            nonzero_inds = np.nonzero(np.logical_and(is_in_graph, np.logical_not(self.T)))[0]\n",
        "\n",
        "            for y in nonzero_inds:\n",
        "                x = self.slackyx[y]\n",
        "                if self.yx[y] == -1:\n",
        "                    return x, y\n",
        "                self.T[y] = True\n",
        "                if not self.S[self.yx[y]]:\n",
        "                    queue.append(x)\n",
        "                    self.add_to_tree(self.yx[y], x)\n",
        "\n",
        "    def solve(self, verbose = False):\n",
        "\n",
        "        while self.max_match < self.n:\n",
        "            x, y = self.find_augment_path()\n",
        "            self.do_augment(x, y)\n",
        "\n",
        "        sum = 0.\n",
        "\n",
        "        self.weights = -self.weights\n",
        "\n",
        "        for x in range(self.n):\n",
        "            if verbose:\n",
        "                print('match {} to {}, weight {:.4f}'.format(x, self.xy[x], self.weights[x, self.xy[x]]))\n",
        "            sum += self.weights[x, self.xy[x]]\n",
        "        self.best = sum\n",
        "        if verbose:\n",
        "            print('ans: {:.4f}'.format(sum))\n",
        "        return sum\n",
        "\n",
        "\n",
        "    def add_to_tree(self, x, prevx):\n",
        "        self.S[x] = True\n",
        "        self.prev[x] = prevx\n",
        "\n",
        "        better_slack_idx = self.label_x[x] + self.label_y - self.weights[x] < self.slack\n",
        "        self.slack[better_slack_idx] = self.label_x[x] + self.label_y[better_slack_idx] - self.weights[x, better_slack_idx]\n",
        "        self.slackyx[better_slack_idx] = x\n",
        "\n",
        "    def update_labels(self):\n",
        "        delta = self.slack[np.logical_not(self.T)].min()\n",
        "        self.label_x[self.S] -= delta\n",
        "        self.label_y[self.T] += delta\n",
        "        self.slack[np.logical_not(self.T)] -= delta"
      ],
      "metadata": {
        "id": "K_pwcW3iLVhJ"
      },
      "execution_count": 211,
      "outputs": []
    },
    {
      "cell_type": "code",
      "source": [
        "def more_vacancy_skills(matrix):\n",
        "\n",
        "    res_skill_num = matrix.shape[0]\n",
        "    vac_skill_num = matrix.shape[1]\n",
        "\n",
        "    zeros = np.zeros(shape=(vac_skill_num-res_skill_num, vac_skill_num))\n",
        "    new_matrix = np.concatenate([matrix, zeros], axis=0)\n",
        "\n",
        "    matcher = KMMatcher(new_matrix)\n",
        "    res = matcher.solve()\n",
        "\n",
        "    weights = matcher.weights\n",
        "    num_no_destination = np.sum(~weights.any(axis=1))\n",
        "\n",
        "    indices = matcher.xy\n",
        "    no_destination = indices[-num_no_destination:]\n",
        "\n",
        "    additional = np.sum(np.min(matrix[:, no_destination], axis=0))\n",
        "\n",
        "    return res + additional"
      ],
      "metadata": {
        "id": "k6UOf511ROSm"
      },
      "execution_count": 205,
      "outputs": []
    },
    {
      "cell_type": "code",
      "source": [
        "def more_resume_skills(matrix):\n",
        "\n",
        "    res_skill_num = matrix.shape[0]\n",
        "    vac_skill_num = matrix.shape[1]\n",
        "\n",
        "    zeros = np.zeros(shape=(res_skill_num, res_skill_num-vac_skill_num))\n",
        "    new_matrix = np.concatenate([matrix, zeros], axis=1)\n",
        "\n",
        "    matcher = KMMatcher(new_matrix)\n",
        "    res = matcher.solve()\n",
        "\n",
        "    return res"
      ],
      "metadata": {
        "id": "VIhW8IvI5ZWR"
      },
      "execution_count": 206,
      "outputs": []
    },
    {
      "cell_type": "code",
      "source": [
        "def get_all_distances(res_skills, vac_skills):\n",
        "\n",
        "    all_distances = np.zeros(shape=(res_skills.shape[0], vac_skills.shape[0]))\n",
        "\n",
        "    for num_res, res in enumerate(res_skills):\n",
        "      min_length = np.zeros_like(vac_skills)\n",
        "      for num_vac, vac in enumerate(vac_skills):\n",
        "\n",
        "        matrix = get_distances(res, vac)\n",
        "        if matrix is None:\n",
        "          continue\n",
        "\n",
        "        if res.shape[0] >= vac.shape[0]:\n",
        "          distance = more_resume_skills(matrix)\n",
        "        else:\n",
        "          distance = more_vacancy_skills(matrix)\n",
        "\n",
        "        min_length[num_vac] = distance\n",
        "\n",
        "      all_distances[num_res] = min_length\n",
        "\n",
        "    return np.argsort(all_distances), all_distances"
      ],
      "metadata": {
        "id": "OK66UznKWgBC"
      },
      "execution_count": 207,
      "outputs": []
    },
    {
      "cell_type": "code",
      "source": [
        "def experiment(skillname='all_skills.txt', skill_column='skills',\n",
        "               df_name='ResVacDataset.csv', R=1, dim_list = None):\n",
        "\n",
        "    full_df = correct_read(df_name)\n",
        "\n",
        "    if dim_list is None:\n",
        "      dim_list = [256, 1024, 3072]\n",
        "\n",
        "    for dim in dim_list:\n",
        "\n",
        "      cur_embeddings = get_embeddings(skillname, f\"{dim}_embeddings.txt\")\n",
        "      embedded_df = replace_by_embedding(full_df, cur_embeddings, R=R,\n",
        "                                         embedded_column=skill_column)\n",
        "\n",
        "      vac_skills = embedded_df[embedded_df.Type == 1].skills\n",
        "      res_skills = embedded_df[embedded_df.Type == 0].skills\n",
        "\n",
        "      order, distances = get_all_distances(res_skills, vac_skills)\n",
        "\n",
        "      np.save(f\"{dim}_order.txt\", order)\n",
        "      np.save(f\"{dim}_distances.txt\", distances)\n",
        "\n",
        "      return order, distances"
      ],
      "metadata": {
        "id": "Qv5_zd73Z1Hu"
      },
      "execution_count": 14,
      "outputs": []
    },
    {
      "cell_type": "code",
      "source": [],
      "metadata": {
        "id": "G-dRmOW_XDob"
      },
      "execution_count": 14,
      "outputs": []
    },
    {
      "cell_type": "code",
      "source": [],
      "metadata": {
        "id": "oiGqXYdmXDcy"
      },
      "execution_count": 14,
      "outputs": []
    },
    {
      "cell_type": "code",
      "source": [
        "#experiment(dim_list=[1024])"
      ],
      "metadata": {
        "id": "L27zCQQWef0V"
      },
      "execution_count": 15,
      "outputs": []
    },
    {
      "cell_type": "code",
      "source": [],
      "metadata": {
        "id": "9CZWpRcLaLaj"
      },
      "execution_count": 16,
      "outputs": []
    },
    {
      "cell_type": "code",
      "source": [
        "big_resumes = pd.read_csv('resumes.csv')\n",
        "big_vacancies = pd.read_csv('Vacancies.csv')"
      ],
      "metadata": {
        "id": "Sksr05NzYpBn"
      },
      "execution_count": null,
      "outputs": []
    },
    {
      "cell_type": "code",
      "source": [
        "def names_list_to_set(namelist):\n",
        "  big_set = set()\n",
        "  for skills in namelist:\n",
        "    big_set.update(set(skills.split()))\n",
        "  return big_set"
      ],
      "metadata": {
        "id": "9dMUsvx8h9ag"
      },
      "execution_count": null,
      "outputs": []
    },
    {
      "cell_type": "code",
      "source": [
        "CUR_CONVERTER = {'BYR': 27.93, 'EUR': 96.24, 'GEL': 31.95, 'KGS': 1.01,\n",
        "                 'KZT': 0.199705, 'USD': 88.44, 'UZS': 0.006975, 'RUR': 1}"
      ],
      "metadata": {
        "id": "2_L8CToxpw66"
      },
      "execution_count": null,
      "outputs": []
    },
    {
      "cell_type": "code",
      "source": [
        "def desired_converter(sal):\n",
        "  if sal == 0:\n",
        "    return np.nan\n",
        "  if sal < 1000:\n",
        "    return 70*sal\n",
        "  if sal < 2000:\n",
        "    return 35*sal\n",
        "  if sal < 5000:\n",
        "    return 15*sal\n",
        "  if sal < 10000:\n",
        "    return 8*sal"
      ],
      "metadata": {
        "id": "MI7Z6m-7vVmo"
      },
      "execution_count": null,
      "outputs": []
    },
    {
      "cell_type": "code",
      "source": [
        "def get_sal_interval(sal_dict):\n",
        "    if sal_dict is np.nan:\n",
        "      return np.nan\n",
        "    sal_dict = ast.literal_eval(sal_dict)\n",
        "\n",
        "    currency = sal_dict['currency']\n",
        "    is_gross = sal_dict['gross']\n",
        "\n",
        "    multiplicator = CUR_CONVERTER[currency]*(0.87 if is_gross else 1)\n",
        "\n",
        "    min_salary = sal_dict['from']\n",
        "    if min_salary:\n",
        "      min_salary *= multiplicator\n",
        "    max_salary = sal_dict['to']\n",
        "    if max_salary:\n",
        "      max_salary *= multiplicator\n",
        "\n",
        "    return [min_salary, max_salary]\n"
      ],
      "metadata": {
        "id": "hc_1sLotprec"
      },
      "execution_count": null,
      "outputs": []
    },
    {
      "cell_type": "code",
      "source": [
        "EXP_TRANSFER = {'noExperience': [0, 0], 'between3And6': [3, 6],\n",
        "            'between1And3': [1, 3], 'moreThan6': [6, 25]}"
      ],
      "metadata": {
        "id": "0SInBGdk6AUA"
      },
      "execution_count": null,
      "outputs": []
    },
    {
      "cell_type": "code",
      "source": [
        "def get_exp_interval(exp_dict):\n",
        "\n",
        "    exp_dict = ast.literal_eval(exp_dict)\n",
        "    exp_name = exp_dict['id']\n",
        "\n",
        "    return EXP_TRANSFER[exp_name]"
      ],
      "metadata": {
        "id": "zPKInpyb2_5X"
      },
      "execution_count": null,
      "outputs": []
    },
    {
      "cell_type": "code",
      "source": [
        "big_resumes, big_vacancies = correct_read('resumes.csv'), correct_read('Vacancies.csv')"
      ],
      "metadata": {
        "id": "V3PJrUGFGYkF"
      },
      "execution_count": null,
      "outputs": []
    },
    {
      "cell_type": "code",
      "source": [
        "def get_name_relevance(resumes=big_resumes, vacancies=big_vacancies):\n",
        "\n",
        "    all_name_relevances = np.zeros(shape=(resumes.shape[0], vacancies.shape[0]))\n",
        "\n",
        "    vacancies_names = vacancies['name'].apply(lambda x: x.split())\n",
        "    resumes_names = resumes['title'].apply(lambda x: x.split())\n",
        "\n",
        "    for resume_num, name_words in tqdm(enumerate(resumes_names)):\n",
        "       res = vacancies_names.apply(lambda x: (len(set(x) & set(name_words)))/len(set(x) | set(name_words)))\n",
        "       all_name_relevances[resume_num] = res\n",
        "\n",
        "    return all_name_relevances"
      ],
      "metadata": {
        "id": "cBdFXRZYXbnk"
      },
      "execution_count": null,
      "outputs": []
    },
    {
      "cell_type": "code",
      "source": [
        "def get_skill_relevance(resumes=big_resumes, vacancies=big_vacancies):\n",
        "\n",
        "    all_skills_relevances = np.zeros(shape=(resumes.shape[0], vacancies.shape[0]))\n",
        "\n",
        "    resumes_list_skills = resumes['skills'].apply(\n",
        "        lambda x: ast.literal_eval(x) if '[' in x else [x])\n",
        "    resumes_list_skills = resumes_list_skills.apply(names_list_to_set)\n",
        "\n",
        "    vacancies_list_skills = vacancies['key_skills'].apply(\n",
        "        lambda x: [skill['name'] for skill in ast.literal_eval(x)])\n",
        "    vacancies_list_skills = vacancies_list_skills.apply(names_list_to_set)\n",
        "\n",
        "    for resume_num, res_skill_list in tqdm(enumerate(resumes_list_skills)):\n",
        "\n",
        "       res = vacancies_list_skills.apply(\n",
        "           lambda x: (len(set(x) & set(res_skill_list)))/len(set(x) | set(res_skill_list)))\n",
        "       all_skills_relevances[resume_num] = res\n",
        "\n",
        "    return all_skills_relevances"
      ],
      "metadata": {
        "id": "ubxQHNkea9JU"
      },
      "execution_count": null,
      "outputs": []
    },
    {
      "cell_type": "code",
      "source": [
        "def get_salary_relevance(resumes=big_resumes, vacancies=big_vacancies):\n",
        "\n",
        "    all_salary_relevances = np.zeros(shape=(resumes.shape[0], vacancies.shape[0]))\n",
        "\n",
        "    vac_sal_int = big_vacancies['salary'].apply(get_sal_interval)\n",
        "    min_vac_sal = vac_sal_int.apply(lambda x: x[0] if x is not np.nan else np.nan)\n",
        "    max_vac_sal = vac_sal_int.apply(lambda x: x[1] if x is not np.nan else np.nan)\n",
        "\n",
        "    true_sal_res = resumes['desired_wage'].apply(desired_converter)\n",
        "\n",
        "    for resume_num, cur_sal in tqdm(enumerate(true_sal_res)):\n",
        "\n",
        "      if cur_sal is np.nan:\n",
        "          res = min_vac_sal/(max_vac_sal + min_vac_sal)\n",
        "      else:\n",
        "          res = (max_vac_sal - cur_sal)/(max_vac_sal - min_vac_sal)\n",
        "\n",
        "      res = res.apply(lambda x: 0.5 if x is np.nan else x)\n",
        "      res = res.to_numpy()\n",
        "\n",
        "      all_salary_relevances[resume_num] = res\n",
        "\n",
        "    return all_salary_relevances"
      ],
      "metadata": {
        "id": "6ndew6zmbros"
      },
      "execution_count": null,
      "outputs": []
    },
    {
      "cell_type": "code",
      "source": [
        "def get_experience_relevance(resumes=big_resumes, vacancies=big_vacancies):\n",
        "\n",
        "    all_exp_relevances = np.zeros(shape=(resumes.shape[0], vacancies.shape[0]))\n",
        "\n",
        "    vac_exp_int = big_vacancies['experience'].apply(get_exp_interval)\n",
        "    min_vac_exp = vac_exp_int.apply(lambda x: x[0])\n",
        "    max_vac_exp = vac_exp_int.apply(lambda x: x[1])\n",
        "\n",
        "    true_exp_res = resumes['desired_wage'].apply(desired_converter)\n",
        "\n",
        "    for resume_num, cur_exp in tqdm(enumerate(resumes['work_experience'])):\n",
        "\n",
        "      res = (min_vac_exp + cur_exp)/(min_vac_exp + max_vac_exp)\n",
        "      res[res > 1] = 1\n",
        "\n",
        "      all_exp_relevances[resume_num] = res\n",
        "\n",
        "    return all_exp_relevances"
      ],
      "metadata": {
        "id": "abhc-uCqcDH4"
      },
      "execution_count": null,
      "outputs": []
    },
    {
      "cell_type": "code",
      "source": [
        "def get_relevance(name_res='all_names.npy', skills_res='all_skills.npy',\n",
        "                  salary_res='all_salaries.npy', exp_res='all_experience.npy',\n",
        "                  p=0.2, k=1):\n",
        "\n",
        "    names = get_name_relevance() if name_res is None else np.load(name_res)\n",
        "    skills = get_skill_relevance() if skills_res is None else np.load(skills_res)\n",
        "    salary = get_salary_relevance() if salary_res is None else np.load(salary_res)\n",
        "    exper = get_experience_relevance() if exp_res is None else np.load(exp_res)\n",
        "\n",
        "    skill_number = ((names > p/2).astype(int) +\n",
        "                    (skills > p/2) + (salary > p/2) +\n",
        "                    (exper > p/2))\n",
        "    total_value = names + skills + salary + exper\n",
        "\n",
        "    relevance = (total_value > k*p) &\n",
        "\n",
        "    indices = [np.where(row)[0] for row in relevance]\n",
        "\n",
        "    return np.array(indices, dtype='object')"
      ],
      "metadata": {
        "id": "EJw1FApIhKiz"
      },
      "execution_count": null,
      "outputs": []
    },
    {
      "cell_type": "code",
      "source": [
        "def apk(actual, predicted, k=10):\n",
        "\n",
        "    if len(predicted) > k:\n",
        "        predicted = predicted[:k]\n",
        "\n",
        "    score = 0\n",
        "    num_hits = 0\n",
        "\n",
        "    for i,p in enumerate(predicted):\n",
        "        if p in actual and p not in predicted[:i]:\n",
        "            num_hits += 1\n",
        "            score += num_hits / (i+1)\n",
        "\n",
        "    if len(actual) == 0:\n",
        "        return 0\n",
        "\n",
        "    return score / min(len(actual), k)\n",
        "\n",
        "def mapk(actual, predicted, k=10):\n",
        "    return np.mean([apk(a,p,k) for a,p in zip(actual, predicted)])"
      ],
      "metadata": {
        "id": "dAHzGJoz8744"
      },
      "execution_count": null,
      "outputs": []
    },
    {
      "cell_type": "code",
      "source": [
        "def get_all_mapk(p_list = None, mapK_list = None, R=1,\n",
        "                 distances_file='1024_distances.txt.npy',\n",
        "                 vacancies_file='short_vacancies.csv'):\n",
        "  if p_list is None:\n",
        "    p_list = [0.2, 0.4, 0.6, 0.8, 1.0]\n",
        "  if mapK_list is None:\n",
        "    mapK_list = [5, 10, 50, 100]\n",
        "\n",
        "  all_vacs = correct_read(vacancies_file)\n",
        "  vac_skill_len = all_vacs['skills'].apply(len).to_numpy()\n",
        "\n",
        "  all_distances = np.load(distances_file)\n",
        "  Q_values = 1 - all_distances/vac_skill_len/np.pi\n",
        "\n",
        "  order = np.argsort(Q_values)\n",
        "\n",
        "  full_res = {p: None for p in p_list}\n",
        "\n",
        "  for p in p_list:\n",
        "    cur_relevance = get_relevance(p=p)\n",
        "    mapK_values = {val: None for val in mapK_list}\n",
        "\n",
        "    for val in mapK_list:\n",
        "      mapK_values[val] = mapk(cur_relevance, order, k=val)\n",
        "    full_res[p] = mapK_values\n",
        "\n",
        "  return full_res"
      ],
      "metadata": {
        "id": "DjJm267M872c"
      },
      "execution_count": 26,
      "outputs": []
    },
    {
      "cell_type": "code",
      "source": [
        "def get_example(res, vac, embeddings, R=1):\n",
        "\n",
        "  embeddings_for_resume = [embeddings[x.lower()] for x in res['skills']]\n",
        "  embeddings_for_vacancy = [embeddings[x.lower()] for x in vac['skills']]\n",
        "\n",
        "  distance_vector = [R*np.arccos(min(np.dot(res, vac)/R**2, 1)) for res,vac in product(embeddings_for_resume, embeddings_for_vacancy)]\n",
        "  distance_matrix = np.array(distance_vector).reshape((len(embeddings_for_resume), len(embeddings_for_vacancy)))\n",
        "\n",
        "  res_skill_num = distance_matrix.shape[0]\n",
        "  vac_skill_num = distance_matrix.shape[1]\n",
        "\n",
        "  zeros = np.zeros(shape=(res_skill_num, res_skill_num-vac_skill_num))\n",
        "  new_matrix = np.concatenate([distance_matrix, zeros], axis=1)\n",
        "\n",
        "  matcher = KMMatcher(new_matrix)\n",
        "  res = matcher.solve(verbose=True)\n",
        "\n",
        "  return matcher"
      ],
      "metadata": {
        "id": "KbKA9ooWIzR1"
      },
      "execution_count": 212,
      "outputs": []
    },
    {
      "cell_type": "code",
      "source": [],
      "metadata": {
        "id": "Dx6B-rhIu59q"
      },
      "execution_count": null,
      "outputs": []
    },
    {
      "cell_type": "code",
      "source": [
        "name_res = get_name_relevance()\n",
        "np.save('all_names', name_res)"
      ],
      "metadata": {
        "colab": {
          "base_uri": "https://localhost:8080/"
        },
        "id": "rc181YHVXbhQ",
        "outputId": "93ce983d-77fd-4d97-f085-84b5b63725e0"
      },
      "execution_count": null,
      "outputs": [
        {
          "output_type": "stream",
          "name": "stderr",
          "text": [
            "11345it [00:43, 260.33it/s]\n"
          ]
        }
      ]
    },
    {
      "cell_type": "code",
      "source": [
        "skills_res = get_skill_relevance()\n",
        "np.save('all_skills', skills_res)"
      ],
      "metadata": {
        "colab": {
          "base_uri": "https://localhost:8080/"
        },
        "id": "c0E3mPy0ck_f",
        "outputId": "63a7a52f-9db5-47be-db6f-f7b6ef6d4161"
      },
      "execution_count": null,
      "outputs": [
        {
          "output_type": "stream",
          "name": "stderr",
          "text": [
            "11345it [01:29, 126.31it/s]\n"
          ]
        }
      ]
    },
    {
      "cell_type": "code",
      "source": [
        "salary_res = get_salary_relevance()\n",
        "salary_res[salary_res > 1] = 1\n",
        "salary_res[salary_res < 0] = 0\n",
        "salary_res = np.nan_to_num(salary_res, nan=0.25)\n",
        "np.save('all_salaries', salary_res)"
      ],
      "metadata": {
        "colab": {
          "base_uri": "https://localhost:8080/"
        },
        "id": "vxMDsaQgck59",
        "outputId": "e221dc43-736c-45cc-b474-4c1a271ea731"
      },
      "execution_count": null,
      "outputs": [
        {
          "output_type": "stream",
          "name": "stderr",
          "text": [
            "11345it [00:15, 710.64it/s]\n"
          ]
        }
      ]
    },
    {
      "cell_type": "code",
      "source": [
        "exp_res = get_experience_relevance()\n",
        "np.save('all_experience', exp_res)"
      ],
      "metadata": {
        "colab": {
          "base_uri": "https://localhost:8080/"
        },
        "id": "sboXQC0L2cYI",
        "outputId": "d8222975-3961-4e63-b290-70656a056f31"
      },
      "execution_count": null,
      "outputs": [
        {
          "output_type": "stream",
          "name": "stderr",
          "text": [
            "11345it [00:12, 879.69it/s] \n"
          ]
        }
      ]
    },
    {
      "cell_type": "code",
      "source": [],
      "metadata": {
        "id": "hFuUhU7vl_LG"
      },
      "execution_count": null,
      "outputs": []
    },
    {
      "cell_type": "code",
      "source": [],
      "metadata": {
        "id": "GFVvTYJ7l-__"
      },
      "execution_count": null,
      "outputs": []
    },
    {
      "cell_type": "code",
      "source": [
        "p_list = np.linspace(0.1, 1.0, 1000)"
      ],
      "metadata": {
        "id": "rDoLotXYPMcL"
      },
      "execution_count": null,
      "outputs": []
    },
    {
      "cell_type": "code",
      "source": [
        "num_relevance = {p: None for p in p_list}\n",
        "\n",
        "for p in p_list:\n",
        "  cur_relevance = get_relevance(p=p)\n",
        "  cur_value = np.mean([len(x) for x in cur_relevance])\n",
        "  num_relevance[p] = cur_value"
      ],
      "metadata": {
        "id": "wdvuVN8onDV7"
      },
      "execution_count": null,
      "outputs": []
    },
    {
      "cell_type": "code",
      "source": [
        "x = np.array(list(num_relevance.keys()))\n",
        "y = np.array(list(num_relevance.values()))\n",
        "\n",
        "plt.title(\"Зависимость среднего количества релевантных вакансий \\n от порога релевантности\")\n",
        "plt.xlabel(\"Значение порога релевантности p\")\n",
        "plt.ylabel(\"Количество релевантных вакансий\")\n",
        "plt.plot(x, y, color =\"red\")\n",
        "plt.yscale('log')\n",
        "plt.savefig('Relevance.png', dpi=500)"
      ],
      "metadata": {
        "colab": {
          "base_uri": "https://localhost:8080/",
          "height": 493
        },
        "id": "HJ9IxiUjM_dY",
        "outputId": "5818b233-0bb7-45de-f197-f5afcd56de3d"
      },
      "execution_count": null,
      "outputs": [
        {
          "output_type": "display_data",
          "data": {
            "text/plain": [
              "<Figure size 640x480 with 1 Axes>"
            ],
            "image/png": "[encoded data removed]"
          },
          "metadata": {}
        }
      ]
    },
    {
      "cell_type": "code",
      "source": [],
      "metadata": {
        "id": "456Jxv2l1Lvw"
      },
      "execution_count": null,
      "outputs": []
    },
    {
      "cell_type": "code",
      "source": [],
      "metadata": {
        "id": "jGvFiu-PlyCw"
      },
      "execution_count": null,
      "outputs": []
    },
    {
      "cell_type": "code",
      "source": [],
      "metadata": {
        "id": "yNEAmpg4lzpk"
      },
      "execution_count": null,
      "outputs": []
    },
    {
      "cell_type": "code",
      "source": [],
      "metadata": {
        "id": "7u_yf_CNlzkt"
      },
      "execution_count": null,
      "outputs": []
    },
    {
      "cell_type": "code",
      "source": [],
      "metadata": {
        "id": "SInAyWBDlzd8"
      },
      "execution_count": null,
      "outputs": []
    },
    {
      "cell_type": "code",
      "source": [],
      "metadata": {
        "id": "_tpXHyPMlxmF"
      },
      "execution_count": null,
      "outputs": []
    },
    {
      "cell_type": "code",
      "source": [],
      "metadata": {
        "id": "bwuz-sQhlxcE"
      },
      "execution_count": null,
      "outputs": []
    },
    {
      "cell_type": "code",
      "source": [
        "# def get_res(matrix):\n",
        "\n",
        "#     mask = np.array([[i for i in range(matrix.shape[1])] for j in range (matrix.shape[0])])\n",
        "\n",
        "#     result = []\n",
        "\n",
        "#     deleted_rows = []\n",
        "#     deleted_columns = []\n",
        "\n",
        "#     cur_matrix = matrix[mask]\n",
        "\n",
        "#     while cur_matrix.size != 0:\n",
        "\n",
        "#       cur_matrix = matrix[mask]\n",
        "\n",
        "#       row_zeros = cur_matrix.shape[0] - np.count_nonzero(cur_matrix, axis=1)\n",
        "#       column_zeros = cur_matrix.shape[1] - np.count_nonzero(cur_matrix, axis=0)\n",
        "\n",
        "#       one_in_a_row = np.where(row_zeros == 1)[0]\n",
        "#       one_in_a_column = np.where(column_zeros == 1)[0]\n",
        "\n",
        "#       print(f\"\\n\\nMatrix is {cur_matrix}\")\n",
        "\n",
        "#       if one_in_a_row.size != 0:\n",
        "\n",
        "#         cur_row = one_in_a_row[0]\n",
        "#         index = np.where(cur_matrix[cur_row, :] == 0)[0][0]\n",
        "\n",
        "#         row_to_add = cur_row + sum(cur_row >= deleted_rows)\n",
        "#         ind_to_add = index + sum(index >= deleted_columns)\n",
        "\n",
        "#         mask = np.delete(mask, cur_row, axis=0)\n",
        "#         mask = np.delete(mask, index, axis=1)\n",
        "\n",
        "#         deleted_rows.append(row_to_add)\n",
        "#         deleted_columns.append(ind_to_add)\n",
        "\n",
        "#         print(f\"[{row_to_add}, {ind_to_add}] by [{cur_row, index}]\")\n",
        "\n",
        "#         result.append((row_to_add, ind_to_add))\n",
        "\n",
        "#       elif one_in_a_column.size != 0:\n",
        "\n",
        "#         cur_column = one_in_a_column[0]\n",
        "#         index = np.where(cur_matrix[:, cur_column] == 0)[0][0]\n",
        "\n",
        "#         col_to_add = cur_column + sum(cur_column >= deleted_columns)\n",
        "#         ind_to_add = index + sum(index >= deleted_rows)\n",
        "\n",
        "#         mask = np.delete(mask, cur_column, axis=1)\n",
        "#         mask = np.delete(mask, index, axis=0)\n",
        "\n",
        "#         deleted_columns.append(col_to_add)\n",
        "#         deleted_rows.append(ind_to_add)\n",
        "\n",
        "#         print(f\"[{ind_to_add}, {col_to_add}] by [{index, cur_column}]\")\n",
        "\n",
        "#         result.append((ind_to_add, col_to_add))\n",
        "\n",
        "#       else:\n",
        "#         break\n",
        "\n",
        "#     print(f\"RES: {result}\")\n",
        "\n",
        "#     return result"
      ],
      "metadata": {
        "id": "upNXTY_TYp_p"
      },
      "execution_count": null,
      "outputs": []
    },
    {
      "cell_type": "code",
      "source": [
        "# def get_max_zeros(matrix, deleted_rows=None, deleted_columns=None):\n",
        "\n",
        "#   new_matrix = matrix.copy()\n",
        "#   row_max, column_max = -1, -1\n",
        "\n",
        "#   if deleted_rows is None:\n",
        "#     deleted_rows = np.array([])\n",
        "#   if deleted_columns is None:\n",
        "#     deleted_columns = np.array([])\n",
        "\n",
        "#   while (row_max != 0) | (column_max != 0):\n",
        "\n",
        "#     row_zeros = new_matrix.shape[0] - np.count_nonzero(new_matrix, axis=0)\n",
        "#     column_zeros = new_matrix.shape[1] - np.count_nonzero(new_matrix, axis=1)\n",
        "\n",
        "#     if (sum(row_zeros) == 0) | (sum(column_zeros) == 0):\n",
        "#       break\n",
        "\n",
        "#     row_max, column_max = max(row_zeros), max(column_zeros)\n",
        "\n",
        "#     row_ind = np.where(row_zeros == row_max)\n",
        "#     column_ind = np.where(column_zeros == column_max)\n",
        "\n",
        "#     needed_axis = row_max > column_max\n",
        "#     indices = row_ind if needed_axis else column_ind\n",
        "\n",
        "#     comparance_array = deleted_rows if needed_axis else deleted_columns\n",
        "\n",
        "#     #print(f\"New matrix is {new_matrix}\")\n",
        "\n",
        "#     add_numbers = []\n",
        "#     for ind in indices[0]:\n",
        "#         shift = sum(ind >= comparance_array)\n",
        "#         add_numbers.append(ind+shift)\n",
        "\n",
        "#     if needed_axis:\n",
        "#       deleted_rows = np.concatenate([deleted_rows, add_numbers])\n",
        "#     else:\n",
        "#       deleted_columns = np.concatenate([deleted_columns, add_numbers])\n",
        "\n",
        "#     new_matrix = np.delete(new_matrix, indices, axis=needed_axis)\n",
        "\n",
        "#    #print(f\"Super new matrix is {new_matrix}\")\n",
        "\n",
        "#     if new_matrix.size == 0:\n",
        "#       break\n",
        "\n",
        "#   return new_matrix, deleted_rows, deleted_columns\n"
      ],
      "metadata": {
        "id": "z1hOw3fiYtpX"
      },
      "execution_count": null,
      "outputs": []
    },
    {
      "cell_type": "code",
      "source": [
        "# def hungarian(matrix):\n",
        "\n",
        "#   if matrix.shape[0] != matrix.shape[1]:\n",
        "#     print(\"Something wrong\")\n",
        "#   transformed_matrix = matrix.copy()\n",
        "\n",
        "#   transformed_matrix = matrix - np.min(transformed_matrix, axis=1)[:,None]\n",
        "#   transformed_matrix = transformed_matrix - np.min(transformed_matrix, axis=0)[None, :]\n",
        "\n",
        "#   little_matrix = transformed_matrix.copy()\n",
        "\n",
        "#   #print(f\"Step one. {transformed_matrix}\")\n",
        "\n",
        "#   deleted_rows, deleted_columns = np.array([]), np.array([])\n",
        "\n",
        "#   while (little_matrix.size != 0):\n",
        "\n",
        "#     old_deleted_rows = deleted_rows.copy()\n",
        "#     old_deleted_columns = deleted_columns.copy()\n",
        "\n",
        "#     little_matrix, deleted_rows, deleted_columns = get_max_zeros(little_matrix, deleted_rows, deleted_columns)\n",
        "\n",
        "#     column_location = np.array([i for i in range(matrix.shape[0]) if i not in deleted_columns])\n",
        "#     row_location = np.array([i for i in range(matrix.shape[1]) if i not in deleted_rows])\n",
        "\n",
        "#     newly_deleted_rows = np.array(list(set(deleted_rows) - set(old_deleted_rows)), dtype=int)\n",
        "#     newly_deleted_columns = np.array(list(set(deleted_columns) - set(old_deleted_columns)), dtype=int)\n",
        "\n",
        "#     indices = np.ix_(column_location, row_location)\n",
        "\n",
        "#     add_indices = np.ix_(newly_deleted_columns, newly_deleted_rows)\n",
        "#     print(product(newly_deleted_columns, newly_deleted_rows))\n",
        "\n",
        "#     if (little_matrix.size != 0):\n",
        "#         min_el = np.min(little_matrix)\n",
        "#         transformed_matrix[indices] -= min_el\n",
        "#         transformed_matrix[add_indices] += min_el\n",
        "#         little_matrix -= min_el\n",
        "#     else:\n",
        "#       break\n",
        "\n",
        "#     # print(f\"Transformed.\\n{transformed_matrix}\")\n",
        "#     # print(f\"Little.\\n{little_matrix}\")\n",
        "#     # print(\"\\n\\n\")\n",
        "\n",
        "#     nonzeros_in_rows = np.count_nonzero(transformed_matrix, axis=1)\n",
        "#     nonzeros_in_columns = np.count_nonzero(transformed_matrix, axis=0)\n",
        "\n",
        "#     # print(nonzeros_in_rows)\n",
        "#     # print(nonzeros_in_columns)\n",
        "\n",
        "#     matrix_size = transformed_matrix.shape[0]\n",
        "\n",
        "#     if (nonzeros_in_rows != transformed_matrix.shape[0]) and (nonzeros_in_columns != transformed_matrix.shape[1]):\n",
        "#       break\n",
        "\n",
        "\n",
        "#     if little_matrix.size == 0:\n",
        "#       break\n",
        "\n",
        "#   # print('\\n\\n')\n",
        "#   # print(transformed_matrix)\n",
        "#   # print('\\n\\n')\n",
        "#   return transformed_matrix\n"
      ],
      "metadata": {
        "id": "zAKpL6N2Yv4Q"
      },
      "execution_count": null,
      "outputs": []
    }
  ]
}